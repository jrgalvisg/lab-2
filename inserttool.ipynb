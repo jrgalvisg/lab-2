{
 "cells": [
  {
   "cell_type": "code",
   "execution_count": 1,
   "metadata": {},
   "outputs": [],
   "source": [
    "from itertools import *\n",
    "def insertion_sort(A):\n",
    "\n",
    "    comp = 0\n",
    "    inter = 0\n",
    "    inst = 0\n",
    "    for i in range(1,len(A)):\n",
    "        temp = A[i]\n",
    "        j = i - 1\n",
    "        while j > -1 and temp < A[j]:\n",
    "            comp += 1\n",
    "            A[j+1] = A[j]\n",
    "            j = j-1\n",
    "            inter += 1\n",
    "            inst += 3\n",
    "        inst += 1\n",
    "        A[j+1] = temp\n",
    "        inst += 4\n",
    "\n",
    "        if j != i:\n",
    "            comp += 1\n",
    "\n",
    "    inst += 1\n",
    "    resultados = []\n",
    "    resultados.append(inst)\n",
    "    resultados.append(comp)\n",
    "    resultados.append(inter)\n",
    "    return resultados"
   ]
  },
  {
   "cell_type": "code",
   "execution_count": 2,
   "metadata": {},
   "outputs": [
    {
     "name": "stdout",
     "output_type": "stream",
     "text": [
      "ARREGLO DE TAMAÑO 2\n",
      "La cantidad de instrucciones promedio es: 7.5\n",
      "La cantidad de comparaciones promedio es: 1.5\n",
      "La cantidad de intercambios promedio es: 0.5\n",
      "-----------------------\n"
     ]
    }
   ],
   "source": [
    "n = 2\n",
    "A = list(i for i in range(n))\n",
    "acum_ins = 0\n",
    "acum_c = 0\n",
    "acum_int = 0\n",
    "long = 0\n",
    "for a in permutations(A):\n",
    "    acum = insertion_sort(list(a))\n",
    "    acum_ins += acum[0]\n",
    "    acum_c += acum[1]\n",
    "    acum_int += acum[2]\n",
    "    long += 1\n",
    "\n",
    "print('ARREGLO DE TAMAÑO {}'.format(n))\n",
    "print('La cantidad de instrucciones promedio es: {}'.format(float(acum_ins / long)))\n",
    "print('La cantidad de comparaciones promedio es: {}'.format(float(acum_c / long)))\n",
    "print('La cantidad de intercambios promedio es: {}'.format(float(acum_int / long)))\n",
    "print('-----------------------')"
   ]
  },
  {
   "cell_type": "code",
   "execution_count": 3,
   "metadata": {},
   "outputs": [
    {
     "name": "stdout",
     "output_type": "stream",
     "text": [
      "ARREGLO DE TAMAÑO 4\n",
      "La cantidad de instrucciones promedio es: 25.0\n",
      "La cantidad de comparaciones promedio es: 6.0\n",
      "La cantidad de intercambios promedio es: 3.0\n",
      "-----------------------\n"
     ]
    }
   ],
   "source": [
    "n = 4\n",
    "A = list(i for i in range(n))\n",
    "acum_ins = 0\n",
    "acum_c = 0\n",
    "acum_int = 0\n",
    "long = 0\n",
    "for a in permutations(A):\n",
    "    acum = insertion_sort(list(a))\n",
    "    acum_ins += acum[0]\n",
    "    acum_c += acum[1]\n",
    "    acum_int += acum[2]\n",
    "    long += 1\n",
    "\n",
    "print('ARREGLO DE TAMAÑO {}'.format(n))\n",
    "print('La cantidad de instrucciones promedio es: {}'.format(float(acum_ins / long)))\n",
    "print('La cantidad de comparaciones promedio es: {}'.format(float(acum_c / long)))\n",
    "print('La cantidad de intercambios promedio es: {}'.format(float(acum_int / long)))\n",
    "print('-----------------------')"
   ]
  },
  {
   "cell_type": "code",
   "execution_count": 4,
   "metadata": {},
   "outputs": [
    {
     "name": "stdout",
     "output_type": "stream",
     "text": [
      "ARREGLO DE TAMAÑO 8\n",
      "La cantidad de instrucciones promedio es: 78.0\n",
      "La cantidad de comparaciones promedio es: 21.0\n",
      "La cantidad de intercambios promedio es: 14.0\n",
      "-----------------------\n"
     ]
    }
   ],
   "source": [
    "n = 8\n",
    "A = list(i for i in range(n))\n",
    "acum_ins = 0\n",
    "acum_c = 0\n",
    "acum_int = 0\n",
    "long = 0\n",
    "for a in permutations(A):\n",
    "    acum = insertion_sort(list(a))\n",
    "    acum_ins += acum[0]\n",
    "    acum_c += acum[1]\n",
    "    acum_int += acum[2]\n",
    "    long += 1\n",
    "\n",
    "print('ARREGLO DE TAMAÑO {}'.format(n))\n",
    "print('La cantidad de instrucciones promedio es: {}'.format(float(acum_ins / long)))\n",
    "print('La cantidad de comparaciones promedio es: {}'.format(float(acum_c / long)))\n",
    "print('La cantidad de intercambios promedio es: {}'.format(float(acum_int / long)))\n",
    "print('-----------------------')"
   ]
  },
  {
   "cell_type": "code",
   "execution_count": 5,
   "metadata": {},
   "outputs": [
    {
     "name": "stdout",
     "output_type": "stream",
     "text": [
      "ARREGLO DE TAMAÑO 10\n",
      "La cantidad de instrucciones promedio es: 113.5\n",
      "La cantidad de comparaciones promedio es: 31.5\n",
      "La cantidad de intercambios promedio es: 22.5\n",
      "-----------------------\n"
     ]
    }
   ],
   "source": [
    "n = 10\n",
    "A = list(i for i in range(n))\n",
    "acum_ins = 0\n",
    "acum_c = 0\n",
    "acum_int = 0\n",
    "long = 0\n",
    "for a in permutations(A):\n",
    "    acum = insertion_sort(list(a))\n",
    "    acum_ins += acum[0]\n",
    "    acum_c += acum[1]\n",
    "    acum_int += acum[2]\n",
    "    long += 1\n",
    "\n",
    "print('ARREGLO DE TAMAÑO {}'.format(n))\n",
    "print('La cantidad de instrucciones promedio es: {}'.format(float(acum_ins / long)))\n",
    "print('La cantidad de comparaciones promedio es: {}'.format(float(acum_c / long)))\n",
    "print('La cantidad de intercambios promedio es: {}'.format(float(acum_int / long)))\n",
    "print('-----------------------')"
   ]
  },
  {
   "cell_type": "code",
   "execution_count": null,
   "metadata": {},
   "outputs": [],
   "source": []
  }
 ],
 "metadata": {
  "kernelspec": {
   "display_name": "Python 3",
   "language": "python",
   "name": "python3"
  },
  "language_info": {
   "codemirror_mode": {
    "name": "ipython",
    "version": 3
   },
   "file_extension": ".py",
   "mimetype": "text/x-python",
   "name": "python",
   "nbconvert_exporter": "python",
   "pygments_lexer": "ipython3",
   "version": "3.6.5"
  }
 },
 "nbformat": 4,
 "nbformat_minor": 2
}
